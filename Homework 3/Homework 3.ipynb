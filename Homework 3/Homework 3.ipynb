{
 "cells": [
  {
   "cell_type": "code",
   "execution_count": 1,
   "id": "143b2f43",
   "metadata": {},
   "outputs": [
    {
     "name": "stdout",
     "output_type": "stream",
     "text": [
      "88\n",
      "66\n",
      "90\n",
      "55\n",
      "77\n",
      "Ann cannot be found.\n"
     ]
    }
   ],
   "source": [
    "#Question 1\n",
    "\n",
    "marks = {'Andy':88, 'Amy':66, 'James':90, 'Jules':55, 'Arthur':77}\n",
    "\n",
    "#Q1\n",
    "def grade(name):\n",
    "    for student in marks:\n",
    "        if student == name:\n",
    "            print(marks[student])\n",
    "            break\n",
    "    else:\n",
    "        print(f\"{name} cannot be found.\")\n",
    "        \n",
    "grade('Andy')\n",
    "grade('Amy')\n",
    "grade('James')\n",
    "grade('Jules')\n",
    "grade('Arthur')\n",
    "grade('Ann')"
   ]
  },
  {
   "cell_type": "code",
   "execution_count": 2,
   "id": "15b86f90",
   "metadata": {},
   "outputs": [
    {
     "name": "stdout",
     "output_type": "stream",
     "text": [
      "75.2\n"
     ]
    }
   ],
   "source": [
    "#Question 1\n",
    "\n",
    "#Q2\n",
    "def average_grade(scoresheet):\n",
    "    scores = list(scoresheet.values())\n",
    "    mean = sum(scoresheet.values()) / len(scoresheet.values())\n",
    "    print(mean)\n",
    "\n",
    "average_grade(marks)"
   ]
  },
  {
   "cell_type": "code",
   "execution_count": 3,
   "id": "27d62241",
   "metadata": {},
   "outputs": [
    {
     "name": "stdout",
     "output_type": "stream",
     "text": [
      "1 1\n",
      "2 4\n",
      "3 9\n",
      "4 16\n",
      "5 25\n",
      "6 36\n",
      "7 49\n",
      "Subsequent numbers are greater than or equal to 8\n"
     ]
    }
   ],
   "source": [
    "#Question 2\n",
    "def squared(num):\n",
    "    n = 1\n",
    "    while n < num:\n",
    "        print(n, n ** 2)\n",
    "        n = n + 1\n",
    "    else:\n",
    "        print(\"Subsequent numbers are greater than or equal to\", num)\n",
    "    \n",
    "squared(8)"
   ]
  },
  {
   "cell_type": "code",
   "execution_count": 4,
   "id": "b465de2c",
   "metadata": {},
   "outputs": [
    {
     "name": "stdout",
     "output_type": "stream",
     "text": [
      "55\n"
     ]
    }
   ],
   "source": [
    "#Question 3\n",
    "def sumfrom1(num):\n",
    "    sum = 0\n",
    "    n = 1\n",
    "    while n <= num:\n",
    "        sum = sum + n\n",
    "        n = n + 1\n",
    "    print(sum)\n",
    "\n",
    "sumfrom1(10)"
   ]
  },
  {
   "cell_type": "code",
   "execution_count": 5,
   "id": "b376f6f1",
   "metadata": {},
   "outputs": [
    {
     "name": "stdout",
     "output_type": "stream",
     "text": [
      "1\n",
      "3\n",
      "6\n",
      "10\n",
      "15\n",
      "21\n",
      "28\n",
      "36\n",
      "45\n",
      "55\n"
     ]
    }
   ],
   "source": [
    "#Question 4\n",
    "def sumstepfrom1(num):\n",
    "    sum = 0\n",
    "    for n in range(num):\n",
    "        sum = sum + n + 1\n",
    "        print(sum)\n",
    "\n",
    "sumstepfrom1(10)"
   ]
  },
  {
   "cell_type": "code",
   "execution_count": 6,
   "id": "1deec1da",
   "metadata": {},
   "outputs": [
    {
     "name": "stdout",
     "output_type": "stream",
     "text": [
      "Mean is 50.0\n",
      "Sum is 4950\n",
      "Standard deviation is 28.577380332470412\n"
     ]
    }
   ],
   "source": [
    "#Question 5\n",
    "import numpy as np\n",
    "def summary(rnge):\n",
    "    arr = np.array(list(rnge))\n",
    "    mean = arr.mean()\n",
    "    print(\"Mean is\", mean)\n",
    "    total = arr.sum()\n",
    "    print(\"Sum is\", total)\n",
    "    stdev = arr.std()\n",
    "    print(\"Standard deviation is\", stdev)\n",
    "\n",
    "summary(range(1,100))"
   ]
  },
  {
   "cell_type": "code",
   "execution_count": 7,
   "id": "370444b6",
   "metadata": {},
   "outputs": [
    {
     "name": "stdout",
     "output_type": "stream",
     "text": [
      "1.04\n"
     ]
    }
   ],
   "source": [
    "#Question 6\n",
    "def minimal(v1,v2,v3,v4):\n",
    "    '''Return the minimum of four values.'''\n",
    "    min_value = v1\n",
    "    if v2 < min_value:\n",
    "        min_value = v2\n",
    "    if v3 < min_value:\n",
    "        min_value = v3\n",
    "    if v4 < min_value:\n",
    "        min_value = v4\n",
    "    return min_value\n",
    "\n",
    "print(minimal(6.2,3.3,1.04,5.5))"
   ]
  },
  {
   "cell_type": "code",
   "execution_count": 8,
   "id": "8494cbad",
   "metadata": {},
   "outputs": [
    {
     "name": "stdout",
     "output_type": "stream",
     "text": [
      "George Washington University\n"
     ]
    }
   ],
   "source": [
    "#Question 7\n",
    "def concatenate(s1,s2,s3):\n",
    "    concatenated_string = s1 + s2 + s3\n",
    "    return concatenated_string\n",
    "\n",
    "print(concatenate(\"George \",\"Washington \",\"University\"))"
   ]
  }
 ],
 "metadata": {
  "kernelspec": {
   "display_name": "Python 3 (ipykernel)",
   "language": "python",
   "name": "python3"
  },
  "language_info": {
   "codemirror_mode": {
    "name": "ipython",
    "version": 3
   },
   "file_extension": ".py",
   "mimetype": "text/x-python",
   "name": "python",
   "nbconvert_exporter": "python",
   "pygments_lexer": "ipython3",
   "version": "3.9.12"
  }
 },
 "nbformat": 4,
 "nbformat_minor": 5
}
