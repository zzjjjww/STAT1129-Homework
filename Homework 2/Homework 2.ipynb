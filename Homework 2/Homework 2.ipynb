{
 "cells": [
  {
   "cell_type": "code",
   "execution_count": 4,
   "id": "cba25443",
   "metadata": {},
   "outputs": [
    {
     "name": "stdout",
     "output_type": "stream",
     "text": [
      "0\n",
      "1\n",
      "2\n",
      "3\n",
      "4\n"
     ]
    }
   ],
   "source": [
    "#Q1\n",
    "n = 0\n",
    "while n < 10:\n",
    "    print(n)\n",
    "    n = n + 1\n",
    "    if n ==5:\n",
    "        break"
   ]
  },
  {
   "cell_type": "code",
   "execution_count": 7,
   "id": "d2f0e356",
   "metadata": {},
   "outputs": [
    {
     "name": "stdout",
     "output_type": "stream",
     "text": [
      "0\n",
      "1\n",
      "2\n",
      "3\n",
      "4\n",
      "5 is not less than 5\n"
     ]
    }
   ],
   "source": [
    "#Q2\n",
    "n = 0\n",
    "while n < 5:\n",
    "    print(n)\n",
    "    n = n + 1\n",
    "else:\n",
    "    print(n, \"is not less than 5\")"
   ]
  },
  {
   "cell_type": "code",
   "execution_count": 12,
   "id": "0312f534",
   "metadata": {},
   "outputs": [
    {
     "name": "stdout",
     "output_type": "stream",
     "text": [
      "I like banana\n",
      "I like orange\n",
      "apple is really a fruit?\n"
     ]
    }
   ],
   "source": [
    "#Q3\n",
    "fruitlist = [\"banana\", \"orange\", \"apple\", \"grape\", \"kiwi\"]\n",
    "for fruit in fruitlist:\n",
    "    if fruit != \"apple\":\n",
    "        print(\"I like\", fruit)\n",
    "    else:\n",
    "        print(fruit, \"is really a fruit?\")\n",
    "        break"
   ]
  },
  {
   "cell_type": "code",
   "execution_count": 13,
   "id": "0cf9dbe0",
   "metadata": {},
   "outputs": [
    {
     "name": "stdout",
     "output_type": "stream",
     "text": [
      "465\n"
     ]
    }
   ],
   "source": [
    "#Q4\n",
    "n = 1\n",
    "sum = 0\n",
    "while n <= 30:\n",
    "    sum = sum + n\n",
    "    n = n + 1\n",
    "print(sum)"
   ]
  },
  {
   "cell_type": "code",
   "execution_count": 23,
   "id": "b2016325",
   "metadata": {},
   "outputs": [
    {
     "name": "stdout",
     "output_type": "stream",
     "text": [
      "Score 55 has grade F\n"
     ]
    }
   ],
   "source": [
    "#Q5\n",
    "def grade(score):\n",
    "    if score > 100:\n",
    "        print(\"Error: Score cannot be higher than 100\")\n",
    "    elif score < 0:\n",
    "        print(\"Error: Score cannot be lower than 0\")\n",
    "    elif score >= 90:\n",
    "        print(\"Score\", score, \"has grade A\")\n",
    "    elif score >= 80:\n",
    "        print(\"Score\", score, \"has grade B\")\n",
    "    elif score >= 70:\n",
    "        print(\"Score\", score, \"has grade C\")\n",
    "    elif score >= 60:\n",
    "        print(\"Score\", score, \"has grade D\")\n",
    "    else:\n",
    "        print(\"Score\", score, \"has grade F\")\n",
    "        \n",
    "grade(55)"
   ]
  },
  {
   "cell_type": "code",
   "execution_count": 60,
   "id": "0ce5f3b4",
   "metadata": {},
   "outputs": [
    {
     "name": "stdout",
     "output_type": "stream",
     "text": [
      "Andy has grade 88\n",
      "Amy has grade 66\n",
      "James has grade 90\n",
      "Jules has grade 55\n",
      "Arthur has grade 77\n"
     ]
    }
   ],
   "source": [
    "#Q6\n",
    "marks = {'Andy':88, 'Amy':66, 'James':90, 'Jules':55, 'Arthur':77}\n",
    "\n",
    "#Q6.1\n",
    "for name, grade in marks.items():\n",
    "    print(f'{name} has grade {grade}')"
   ]
  },
  {
   "cell_type": "code",
   "execution_count": 55,
   "id": "3fc2020e",
   "metadata": {},
   "outputs": [
    {
     "name": "stdout",
     "output_type": "stream",
     "text": [
      "Mean grade is 75.2\n",
      "Maximal grade is 90\n",
      "Minimal grade is 55\n"
     ]
    }
   ],
   "source": [
    "#Q6.2\n",
    "grade1 = list(marks.values())\n",
    "sum = 0\n",
    "for grade in grade1:\n",
    "    sum = sum + grade\n",
    "    \n",
    "mean_grade = sum/len(grade1)\n",
    "print(\"Mean grade is\", mean_grade)\n",
    "\n",
    "maximal_grade = max(grade1)\n",
    "print(\"Maximal grade is\", maximal_grade)\n",
    "\n",
    "minimal_grade = min(grade1)\n",
    "print(\"Minimal grade is\", minimal_grade)"
   ]
  },
  {
   "cell_type": "code",
   "execution_count": 56,
   "id": "2943b4c2",
   "metadata": {},
   "outputs": [
    {
     "name": "stdout",
     "output_type": "stream",
     "text": [
      "Andy\n",
      "Amy\n"
     ]
    }
   ],
   "source": [
    "#Q6.3\n",
    "for name in marks.keys():\n",
    "    if 'J' in name:\n",
    "        break\n",
    "    print(name)"
   ]
  },
  {
   "cell_type": "code",
   "execution_count": 57,
   "id": "a7194864",
   "metadata": {},
   "outputs": [
    {
     "name": "stdout",
     "output_type": "stream",
     "text": [
      "Andy\n",
      "Amy\n",
      "Arthur\n"
     ]
    }
   ],
   "source": [
    "#Q6.4\n",
    "for name in marks.keys():\n",
    "    if 'J' in name:\n",
    "        continue\n",
    "    print(name)"
   ]
  }
 ],
 "metadata": {
  "kernelspec": {
   "display_name": "Python 3 (ipykernel)",
   "language": "python",
   "name": "python3"
  },
  "language_info": {
   "codemirror_mode": {
    "name": "ipython",
    "version": 3
   },
   "file_extension": ".py",
   "mimetype": "text/x-python",
   "name": "python",
   "nbconvert_exporter": "python",
   "pygments_lexer": "ipython3",
   "version": "3.9.12"
  }
 },
 "nbformat": 4,
 "nbformat_minor": 5
}
