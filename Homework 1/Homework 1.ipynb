{
 "cells": [
  {
   "cell_type": "code",
   "execution_count": 4,
   "id": "37bb58b2",
   "metadata": {},
   "outputs": [
    {
     "name": "stdout",
     "output_type": "stream",
     "text": [
      "[30, 35, 40, 45, 50, 55, 60]\n"
     ]
    }
   ],
   "source": [
    "#Question 1 Part 1\n",
    "nums1 = list(range(30,61,5))\n",
    "print(nums1)"
   ]
  },
  {
   "cell_type": "code",
   "execution_count": 10,
   "id": "1cfef964",
   "metadata": {},
   "outputs": [
    {
     "name": "stdout",
     "output_type": "stream",
     "text": [
      "[60, 55, 50, 45, 40, 35, 30]\n"
     ]
    }
   ],
   "source": [
    "#Question 1 Part 2\n",
    "nums2 = list(range(60,29,-5))\n",
    "print(nums2)"
   ]
  },
  {
   "cell_type": "code",
   "execution_count": 11,
   "id": "5121b71b",
   "metadata": {},
   "outputs": [
    {
     "name": "stdout",
     "output_type": "stream",
     "text": [
      "[65, 60, 55, 50, 45, 40, 35, 30]\n"
     ]
    }
   ],
   "source": [
    "#Question 1 Part 3\n",
    "nums2.append(65)\n",
    "nums2.sort(reverse = True)\n",
    "print(nums2)"
   ]
  },
  {
   "cell_type": "code",
   "execution_count": 38,
   "id": "b297da4a",
   "metadata": {},
   "outputs": [
    {
     "name": "stdout",
     "output_type": "stream",
     "text": [
      "[0, 1, 2, 3, 4, 5, 6, 7, 8, 9, 10, 11, 12, 13, 14, 15, 16, 17, 18, 19, 20]\n"
     ]
    }
   ],
   "source": [
    "#Question 2 Part 1\n",
    "lsst = []\n",
    "\n",
    "lsst.extend(list(range(21)))\n",
    "print(lsst)"
   ]
  },
  {
   "cell_type": "code",
   "execution_count": 39,
   "id": "91a157c2",
   "metadata": {},
   "outputs": [
    {
     "name": "stdout",
     "output_type": "stream",
     "text": [
      "[1, 2, 3, 4, 5, 6, 7, 8, 9, 10, 11, 12, 13, 14, 15, 16, 17, 18, 19, 20]\n"
     ]
    }
   ],
   "source": [
    "#Question 2 Part 2\n",
    "lsst.remove(0)\n",
    "print(lsst)"
   ]
  },
  {
   "cell_type": "code",
   "execution_count": 40,
   "id": "c72b0443",
   "metadata": {},
   "outputs": [
    {
     "name": "stdout",
     "output_type": "stream",
     "text": [
      "20\n",
      "20\n",
      "1\n"
     ]
    }
   ],
   "source": [
    "#Question 2 Part 3\n",
    "print(len(lsst))\n",
    "print(max(lsst))\n",
    "print(min(lsst))"
   ]
  },
  {
   "cell_type": "code",
   "execution_count": 44,
   "id": "05718c94",
   "metadata": {},
   "outputs": [
    {
     "name": "stdout",
     "output_type": "stream",
     "text": [
      "210\n"
     ]
    }
   ],
   "source": [
    "#Question 2 Part 4\n",
    "sum = 0\n",
    "for i in lsst:\n",
    "    sum += i\n",
    "print(sum)"
   ]
  },
  {
   "cell_type": "code",
   "execution_count": 49,
   "id": "3d1179f0",
   "metadata": {},
   "outputs": [
    {
     "name": "stdout",
     "output_type": "stream",
     "text": [
      "{'sunny': 'play', 'rainy': 'watch TV', 'cloudy': 'walk'}\n",
      "When sunny let us play\n",
      "When rainy let us watch TV\n",
      "When cloudy let us walk\n"
     ]
    }
   ],
   "source": [
    "#Question 3 Part 1\n",
    "weatherdict = {\"sunny\":\"play\", \"rainy\":\"watch TV\", \"cloudy\":\"walk\"}\n",
    "print(weatherdict)\n",
    "\n",
    "for keys, values in weatherdict.items():\n",
    "    print(f'When {keys} let us {values}')"
   ]
  },
  {
   "cell_type": "code",
   "execution_count": 52,
   "id": "c1572a20",
   "metadata": {},
   "outputs": [
    {
     "name": "stdout",
     "output_type": "stream",
     "text": [
      "{'sunny': 'play', 'rainy': 'watch TV', 'cloudy': 'walk', 'snowy': 'ski'}\n",
      "When sunny let us play\n",
      "When rainy let us watch TV\n",
      "When cloudy let us walk\n",
      "When snowy let us ski\n"
     ]
    }
   ],
   "source": [
    "#Question 3 Part 2\n",
    "weatherdict['snowy'] = 'ski'\n",
    "print(weatherdict)\n",
    "\n",
    "for keys, values in weatherdict.items():\n",
    "    print(f'When {keys} let us {values}')"
   ]
  },
  {
   "cell_type": "code",
   "execution_count": null,
   "id": "b34f5114",
   "metadata": {},
   "outputs": [],
   "source": []
  }
 ],
 "metadata": {
  "kernelspec": {
   "display_name": "Python 3 (ipykernel)",
   "language": "python",
   "name": "python3"
  },
  "language_info": {
   "codemirror_mode": {
    "name": "ipython",
    "version": 3
   },
   "file_extension": ".py",
   "mimetype": "text/x-python",
   "name": "python",
   "nbconvert_exporter": "python",
   "pygments_lexer": "ipython3",
   "version": "3.9.12"
  }
 },
 "nbformat": 4,
 "nbformat_minor": 5
}
